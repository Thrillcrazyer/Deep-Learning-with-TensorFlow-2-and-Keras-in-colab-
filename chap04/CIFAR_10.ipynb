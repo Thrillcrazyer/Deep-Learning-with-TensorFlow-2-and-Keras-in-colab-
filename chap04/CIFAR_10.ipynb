{
  "nbformat": 4,
  "nbformat_minor": 0,
  "metadata": {
    "colab": {
      "name": "CIFAR-10.ipynb",
      "provenance": [],
      "authorship_tag": "ABX9TyMAmuqbQRz1VmvMAbCzDB2I",
      "include_colab_link": true
    },
    "kernelspec": {
      "name": "python3",
      "display_name": "Python 3"
    },
    "language_info": {
      "name": "python"
    }
  },
  "cells": [
    {
      "cell_type": "markdown",
      "metadata": {
        "id": "view-in-github",
        "colab_type": "text"
      },
      "source": [
        "<a href=\"https://colab.research.google.com/github/Thrillcrazyer/Deep-Learning-with-TensorFlow-2-and-Keras-in-colab-/blob/master/chap04/CIFAR_10.ipynb\" target=\"_parent\"><img src=\"https://colab.research.google.com/assets/colab-badge.svg\" alt=\"Open In Colab\"/></a>"
      ]
    },
    {
      "cell_type": "markdown",
      "source": [
        "# 딥러닝으로 CIFAR-10 이미지 인식"
      ],
      "metadata": {
        "id": "Zgrav1_YtmY5"
      }
    },
    {
      "cell_type": "code",
      "execution_count": null,
      "metadata": {
        "id": "41Ax9i6CjfKm"
      },
      "outputs": [],
      "source": [
        "  import tensorflow as tf\n",
        "  from tensorflow.keras import datasets,layers,models,optimizers\n",
        "\n",
        "  #CIRER_10 은 3체널 32X32 픽셀의 60K개 이미지다.\n",
        "  IMG_CHANNELS =3\n",
        "  IMG_ROWS=32\n",
        "  IMG_COLS=32\n",
        "  \n",
        "  #상수\n",
        "  BATCH_SIZE= 128\n",
        "  EPOCHS=20\n",
        "  CLASSES=10\n",
        "  VERBOSE =1\n",
        "  VALIDATION_SPLIT= 0.2\n",
        "  OPTIM = tf.keras.optimizers.RMSprop()\n",
        "\n",
        "  #convnet 정의\n",
        "  def build(input_shape, classes):\n",
        "    model=models.Sequential()\n",
        "    model.add(layers.Convolution2D(32,(3,3),activation='relu', input_shape=input_shape))\n",
        "    model.add(layers.MaxPooling2D(pool_size=(2,2)))\n",
        "    model.add(layers.Dropout(0.25))\n",
        "    model.add(layers.Flatten())\n",
        "    model.add(layers.Dense(512,activation='relu'))\n",
        "    model.add(layers.Dropout(0.5))\n",
        "    model.add(layers.Dense(classes,activation='softmax'))\n",
        "    return model"
      ]
    },
    {
      "cell_type": "code",
      "source": [
        "# data: shuffled and split between train and test sets\n",
        "(X_train, y_train), (X_test, y_test) = datasets.cifar10.load_data()\n",
        "# normalize\n",
        "X_train, X_test = X_train / 255.0, X_test / 255.0\n",
        "# convert to categorical\n",
        "# convert class vectors to binary class matrices\n",
        "y_train = tf.keras.utils.to_categorical(y_train, CLASSES)\n",
        "y_test = tf.keras.utils.to_categorical(y_test, CLASSES)\n",
        "\n",
        "model=build((IMG_ROWS, IMG_COLS, IMG_CHANNELS), CLASSES)\n",
        "model.summary()"
      ],
      "metadata": {
        "colab": {
          "base_uri": "https://localhost:8080/"
        },
        "id": "-xLpvnXy-0kV",
        "outputId": "fe8a20a5-877e-4527-d170-921ed2184103"
      },
      "execution_count": null,
      "outputs": [
        {
          "output_type": "stream",
          "name": "stdout",
          "text": [
            "Downloading data from https://www.cs.toronto.edu/~kriz/cifar-10-python.tar.gz\n",
            "170500096/170498071 [==============================] - 11s 0us/step\n",
            "170508288/170498071 [==============================] - 11s 0us/step\n",
            "Model: \"sequential\"\n",
            "_________________________________________________________________\n",
            " Layer (type)                Output Shape              Param #   \n",
            "=================================================================\n",
            " conv2d (Conv2D)             (None, 30, 30, 32)        896       \n",
            "                                                                 \n",
            " max_pooling2d (MaxPooling2D  (None, 15, 15, 32)       0         \n",
            " )                                                               \n",
            "                                                                 \n",
            " dropout (Dropout)           (None, 15, 15, 32)        0         \n",
            "                                                                 \n",
            " flatten (Flatten)           (None, 7200)              0         \n",
            "                                                                 \n",
            " dense (Dense)               (None, 512)               3686912   \n",
            "                                                                 \n",
            " dropout_1 (Dropout)         (None, 512)               0         \n",
            "                                                                 \n",
            " dense_1 (Dense)             (None, 10)                5130      \n",
            "                                                                 \n",
            "=================================================================\n",
            "Total params: 3,692,938\n",
            "Trainable params: 3,692,938\n",
            "Non-trainable params: 0\n",
            "_________________________________________________________________\n"
          ]
        }
      ]
    },
    {
      "cell_type": "code",
      "source": [
        "callbacks=[tf.keras.callbacks.TensorBoard(log_dir='./logs')]\n",
        "\n",
        "#훈련\n",
        "model.compile(loss='categorical crossentropy', optimizer=OPTIM, metrics=['accuracy'])\n",
        "# train\n",
        "model.compile(loss='categorical_crossentropy', optimizer=OPTIM,metrics=['accuracy'])\n",
        " \n",
        "model.fit(X_train, y_train, batch_size=BATCH_SIZE, epochs=EPOCHS, validation_split=VALIDATION_SPLIT, verbose=VERBOSE, callbacks=callbacks) \n",
        "score = model.evaluate(X_test, y_test, batch_size=BATCH_SIZE, verbose=VERBOSE)\n",
        "print(\"\\nTest score:\", score[0])\n",
        "print('Test accuracy:', score[1])\n",
        "print(score)"
      ],
      "metadata": {
        "colab": {
          "base_uri": "https://localhost:8080/"
        },
        "id": "SFN0DES-5O8N",
        "outputId": "c6ee65b1-eca7-4450-84a1-67195c7e6d10"
      },
      "execution_count": null,
      "outputs": [
        {
          "output_type": "stream",
          "name": "stdout",
          "text": [
            "Epoch 1/20\n",
            "313/313 [==============================] - 58s 182ms/step - loss: 1.8250 - accuracy: 0.3607 - val_loss: 1.4576 - val_accuracy: 0.4920\n",
            "Epoch 2/20\n",
            "313/313 [==============================] - 58s 185ms/step - loss: 1.4230 - accuracy: 0.4960 - val_loss: 1.3786 - val_accuracy: 0.5258\n",
            "Epoch 3/20\n",
            "313/313 [==============================] - 56s 178ms/step - loss: 1.2888 - accuracy: 0.5501 - val_loss: 1.2372 - val_accuracy: 0.5589\n",
            "Epoch 4/20\n",
            "313/313 [==============================] - 58s 185ms/step - loss: 1.1927 - accuracy: 0.5830 - val_loss: 1.1621 - val_accuracy: 0.5957\n",
            "Epoch 5/20\n",
            "313/313 [==============================] - 56s 180ms/step - loss: 1.1228 - accuracy: 0.6069 - val_loss: 1.1107 - val_accuracy: 0.6155\n",
            "Epoch 6/20\n",
            "313/313 [==============================] - 59s 189ms/step - loss: 1.0584 - accuracy: 0.6322 - val_loss: 1.1009 - val_accuracy: 0.6225\n",
            "Epoch 7/20\n",
            "313/313 [==============================] - 57s 182ms/step - loss: 1.0069 - accuracy: 0.6481 - val_loss: 1.0626 - val_accuracy: 0.6377\n",
            "Epoch 8/20\n",
            "313/313 [==============================] - 56s 178ms/step - loss: 0.9603 - accuracy: 0.6640 - val_loss: 1.0453 - val_accuracy: 0.6456\n",
            "Epoch 9/20\n",
            "313/313 [==============================] - 55s 176ms/step - loss: 0.9161 - accuracy: 0.6830 - val_loss: 1.0855 - val_accuracy: 0.6292\n",
            "Epoch 10/20\n",
            "313/313 [==============================] - 57s 182ms/step - loss: 0.8745 - accuracy: 0.6973 - val_loss: 0.9909 - val_accuracy: 0.6681\n",
            "Epoch 11/20\n",
            "313/313 [==============================] - 57s 181ms/step - loss: 0.8401 - accuracy: 0.7087 - val_loss: 1.0345 - val_accuracy: 0.6559\n",
            "Epoch 12/20\n",
            "313/313 [==============================] - 56s 179ms/step - loss: 0.8049 - accuracy: 0.7222 - val_loss: 1.0515 - val_accuracy: 0.6531\n",
            "Epoch 13/20\n",
            "313/313 [==============================] - 58s 185ms/step - loss: 0.7671 - accuracy: 0.7362 - val_loss: 1.0235 - val_accuracy: 0.6638\n",
            "Epoch 14/20\n",
            "313/313 [==============================] - 58s 185ms/step - loss: 0.7359 - accuracy: 0.7437 - val_loss: 1.0787 - val_accuracy: 0.6459\n",
            "Epoch 15/20\n",
            "313/313 [==============================] - 55s 177ms/step - loss: 0.7090 - accuracy: 0.7571 - val_loss: 1.0278 - val_accuracy: 0.6692\n",
            "Epoch 16/20\n",
            "313/313 [==============================] - 55s 177ms/step - loss: 0.6854 - accuracy: 0.7667 - val_loss: 0.9902 - val_accuracy: 0.6815\n",
            "Epoch 17/20\n",
            "313/313 [==============================] - 58s 186ms/step - loss: 0.6612 - accuracy: 0.7735 - val_loss: 1.0214 - val_accuracy: 0.6740\n",
            "Epoch 18/20\n",
            "313/313 [==============================] - 55s 175ms/step - loss: 0.6371 - accuracy: 0.7793 - val_loss: 1.0273 - val_accuracy: 0.6742\n",
            "Epoch 19/20\n",
            "313/313 [==============================] - 57s 183ms/step - loss: 0.6149 - accuracy: 0.7871 - val_loss: 1.0994 - val_accuracy: 0.6699\n",
            "Epoch 20/20\n",
            "313/313 [==============================] - 57s 182ms/step - loss: 0.6068 - accuracy: 0.7927 - val_loss: 1.0282 - val_accuracy: 0.6766\n",
            "79/79 [==============================] - 3s 40ms/step - loss: 1.0223 - accuracy: 0.6751\n",
            "\n",
            "Test score: 1.0222681760787964\n",
            "Test accuracy: 0.6751000285148621\n",
            "[1.0222681760787964, 0.6751000285148621]\n"
          ]
        }
      ]
    }
  ]
}