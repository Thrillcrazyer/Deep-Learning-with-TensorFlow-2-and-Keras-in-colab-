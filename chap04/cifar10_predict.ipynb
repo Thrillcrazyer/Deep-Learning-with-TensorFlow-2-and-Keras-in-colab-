{
  "nbformat": 4,
  "nbformat_minor": 0,
  "metadata": {
    "colab": {
      "name": "cifar10_predict.ipynb",
      "provenance": [],
      "authorship_tag": "ABX9TyPrUwI4GUG8D7Q/O+IeqEi5",
      "include_colab_link": true
    },
    "kernelspec": {
      "name": "python3",
      "display_name": "Python 3"
    },
    "language_info": {
      "name": "python"
    }
  },
  "cells": [
    {
      "cell_type": "markdown",
      "metadata": {
        "id": "view-in-github",
        "colab_type": "text"
      },
      "source": [
        "<a href=\"https://colab.research.google.com/github/Thrillcrazyer/Deep-Learning-with-TensorFlow-2-and-Keras-in-colab-/blob/master/chap04/cifar10_predict.ipynb\" target=\"_parent\"><img src=\"https://colab.research.google.com/assets/colab-badge.svg\" alt=\"Open In Colab\"/></a>"
      ]
    },
    {
      "cell_type": "markdown",
      "source": [
        ""
      ],
      "metadata": {
        "id": "jmME3PPN5s11"
      }
    },
    {
      "cell_type": "markdown",
      "source": [
        "# CIFAR-10 으로 예측"
      ],
      "metadata": {
        "id": "YbKiRu_e5vce"
      }
    },
    {
      "cell_type": "code",
      "execution_count": null,
      "metadata": {
        "colab": {
          "base_uri": "https://localhost:8080/"
        },
        "id": "IGcBbmzV17Wx",
        "outputId": "61b21c5d-7a85-471a-fa05-8dbbfa3aba61"
      },
      "outputs": [
        {
          "output_type": "stream",
          "name": "stdout",
          "text": [
            "Drive already mounted at /content/gdrive; to attempt to forcibly remount, call drive.mount(\"/content/gdrive\", force_remount=True).\n",
            "[4 4]\n"
          ]
        }
      ],
      "source": [
        "import numpy as np\n",
        "\n",
        "from tensorflow.keras.models import model_from_json\n",
        "from tensorflow.keras.optimizers import SGD\n",
        "\n",
        "from skimage.transform import resize\n",
        "from imageio import imread\n",
        "\n",
        "from google.colab import drive\n",
        "drive.mount('/content/gdrive')\n",
        "\n",
        " #모델로드\n",
        "\n",
        "model_architecture='/content/gdrive/My Drive/Deep-Learning-with-TensorFlow-2-and-Keras-in-colab--master/chap04/cifar10_architecture.json'\n",
        "model_weights='/content/gdrive/My Drive/Deep-Learning-with-TensorFlow-2-and-Keras-in-colab--master/chap04/cifar10_weights.h5'\n",
        "model = model_from_json(open(model_architecture).read())\n",
        "model.load_weights(model_weights)\n",
        "\n",
        " #이미지로드\n",
        "img_names=['/content/gdrive/My Drive/Deep-Learning-with-TensorFlow-2-and-Keras-in-colab--master/chap04/cat-standing.jpg',\n",
        "          '/content/gdrive/My Drive/Deep-Learning-with-TensorFlow-2-and-Keras-in-colab--master/chap04/dog.jpg']\n",
        "imgs = [resize(imread(img_name), (32, 32)).astype(\"float32\") for img_name in img_names]\n",
        "imgs=np.array(imgs)/255\n",
        "\n",
        " #훈련 \n",
        "optim=SGD()\n",
        "model.compile(loss='categorical_crossentropy',optimizer=optim,metrics=['accuracy'])\n",
        "\n",
        "#예측\n",
        "#prediction=model.predict_classes(imgs) => 텐서플로 2.6 업데이트 이후 사라진 함수\n",
        "y_prob = model.predict(imgs) \n",
        "predictions = y_prob.argmax(axis=-1)\n",
        "\n",
        "print(predictions)"
      ]
    }
  ]
}