{
  "nbformat": 4,
  "nbformat_minor": 0,
  "metadata": {
    "colab": {
      "name": "Estimator.ipynb",
      "provenance": [],
      "collapsed_sections": [],
      "authorship_tag": "ABX9TyNU+mbLPM6xR6T4RBgVemla",
      "include_colab_link": true
    },
    "kernelspec": {
      "name": "python3",
      "display_name": "Python 3"
    },
    "language_info": {
      "name": "python"
    },
    "accelerator": "GPU",
    "gpuClass": "standard"
  },
  "cells": [
    {
      "cell_type": "markdown",
      "metadata": {
        "id": "view-in-github",
        "colab_type": "text"
      },
      "source": [
        "<a href=\"https://colab.research.google.com/github/Thrillcrazyer/Deep-Learning-with-TensorFlow-2-and-Keras-in-colab-/blob/master/chap05/Estimator.ipynb\" target=\"_parent\"><img src=\"https://colab.research.google.com/assets/colab-badge.svg\" alt=\"Open In Colab\"/></a>"
      ]
    },
    {
      "cell_type": "markdown",
      "source": [
        "# tf.keras 추정기 모델로 패션 MNIST 분류"
      ],
      "metadata": {
        "id": "hlwSNtbbUL1m"
      }
    },
    {
      "cell_type": "code",
      "execution_count": 11,
      "metadata": {
        "colab": {
          "base_uri": "https://localhost:8080/"
        },
        "id": "1AsCP1Q2UB4A",
        "outputId": "e23f65db-f930-4ecb-870d-a6f119e50ba3"
      },
      "outputs": [
        {
          "output_type": "stream",
          "name": "stdout",
          "text": [
            "(60000, 10)\n",
            "(10000, 10)\n"
          ]
        }
      ],
      "source": [
        "import os\n",
        "import time\n",
        "import tensorflow as tf\n",
        "import numpy as np\n",
        "\n",
        "#예측하려는 범주의 수 (0~9)\n",
        "\n",
        "LABEL_DIMENSIONS= 10\n",
        "\n",
        "(train_images, train_labels),(test_images, test_labels)= tf.keras.datasets.fashion_mnist.load_data()\n",
        "TRAINING_SIZE= len(train_images)\n",
        "TEST_SIZE=len(test_images)\n",
        "\n",
        "\n",
        "#훈련이미지를 변환하고 채널을 추가\n",
        "train_images = np.asarray(train_images,dtype=np.float32)/255 \n",
        "train_images=train_images.reshape(TRAINING_SIZE,28,28,1)\n",
        "\n",
        "#테스트 이미지를 변환하고 체널을 추가 \n",
        "test_images=np.asarray(test_images,dtype=np.float32)/255\n",
        "test_images=test_images.reshape(TEST_SIZE,28,28,1)\n",
        "\n",
        "train_labels=tf.keras.utils.to_categorical(train_labels,LABEL_DIMENSIONS)\n",
        "test_labels=tf.keras.utils.to_categorical(test_labels,LABEL_DIMENSIONS)\n",
        "\n",
        "#레이블을 float 형식으로 변환\n",
        "train_labels= train_labels.astype(np.float32)\n",
        "test_labels= test_labels.astype(np.float32)\n",
        "print(train_labels.shape)\n",
        "print(test_labels.shape)"
      ]
    },
    {
      "cell_type": "code",
      "source": [
        "# GPU 사용하는거\n",
        "\n",
        "from tensorflow.python.client import device_lib\n",
        "\n",
        "def get_available_gpus():\n",
        "    local_device_protos = device_lib.list_local_devices()\n",
        "    return [x.name for x in local_device_protos if x.device_type == 'GPU']\n",
        "\n",
        "get_available_gpus()"
      ],
      "metadata": {
        "colab": {
          "base_uri": "https://localhost:8080/"
        },
        "id": "OvDN1gAlz3Sx",
        "outputId": "8b4527a7-e0ee-4083-c8ae-d2ec59fa067f"
      },
      "execution_count": 12,
      "outputs": [
        {
          "output_type": "execute_result",
          "data": {
            "text/plain": [
              "['/device:GPU:0']"
            ]
          },
          "metadata": {},
          "execution_count": 12
        }
      ]
    },
    {
      "cell_type": "code",
      "source": [
        "#tf.Keras 함수형 API로 모델 구축 (Sequantial과 다른형태의 모델링)\n",
        "\n",
        "inputs=tf.keras.Input(shape=(28,28,1))\n",
        "x=tf.keras.layers.Conv2D(filters=32,kernel_size=(3,3),activation='relu')(inputs)\n",
        "x=tf.keras.layers.MaxPooling2D(pool_size=(2,2),strides=2)(x)\n",
        "x=tf.keras.layers.Conv2D(filters=64,kernel_size=(3,3),activation='relu')(inputs)\n",
        "x=tf.keras.layers.MaxPooling2D(pool_size=(2,2),strides=2)(x)\n",
        "x = tf.keras.layers.Conv2D(filters=256, kernel_size=(3, 3), activation='relu')(x)\n",
        "x=tf.keras.layers.Flatten()(x)\n",
        "x = tf.keras.layers.Dense(64, activation='relu')(x)\n",
        "x = tf.keras.layers.Dropout(0.2)(x)\n",
        "x = tf.keras.layers.Dense(128, activation='relu')(x)\n",
        "\n",
        "predictions=tf.keras.layers.Dense(LABEL_DIMENSIONS,activation='softmax')(x)\n",
        "\n",
        "model=tf.keras.Model(inputs=inputs,outputs=predictions)\n",
        "model.summary()\n",
        "\n",
        "\n"
      ],
      "metadata": {
        "colab": {
          "base_uri": "https://localhost:8080/"
        },
        "id": "ZzsHCYZVkOwC",
        "outputId": "b2d5ceed-ac47-4cec-9187-72f2e47e8a03"
      },
      "execution_count": 13,
      "outputs": [
        {
          "output_type": "stream",
          "name": "stdout",
          "text": [
            "Model: \"model_3\"\n",
            "_________________________________________________________________\n",
            " Layer (type)                Output Shape              Param #   \n",
            "=================================================================\n",
            " input_4 (InputLayer)        [(None, 28, 28, 1)]       0         \n",
            "                                                                 \n",
            " conv2d_10 (Conv2D)          (None, 26, 26, 64)        640       \n",
            "                                                                 \n",
            " max_pooling2d_7 (MaxPooling  (None, 13, 13, 64)       0         \n",
            " 2D)                                                             \n",
            "                                                                 \n",
            " conv2d_11 (Conv2D)          (None, 11, 11, 256)       147712    \n",
            "                                                                 \n",
            " flatten_3 (Flatten)         (None, 30976)             0         \n",
            "                                                                 \n",
            " dense_8 (Dense)             (None, 64)                1982528   \n",
            "                                                                 \n",
            " dropout_2 (Dropout)         (None, 64)                0         \n",
            "                                                                 \n",
            " dense_9 (Dense)             (None, 128)               8320      \n",
            "                                                                 \n",
            " dense_10 (Dense)            (None, 10)                1290      \n",
            "                                                                 \n",
            "=================================================================\n",
            "Total params: 2,140,490\n",
            "Trainable params: 2,140,490\n",
            "Non-trainable params: 0\n",
            "_________________________________________________________________\n"
          ]
        }
      ]
    },
    {
      "cell_type": "code",
      "source": [
        "##optimizer= tf.keras.optimizers.SGD()\n",
        "\n",
        "#model.compile(loss='categorical_crossentropy',optimizer=optimizer,metrics=['accuracy'])\n",
        "\n",
        "#model.compile(loss='categorical_crossentropy',\n",
        "#              optimizer=optimizer,\n",
        "#              metrics=['accuracy'])\n",
        "\n",
        "optimizer = tf.keras.optimizers.Adam()\n",
        "model.compile(loss='categorical_crossentropy',optimizer=optimizer,metrics=['accuracy'])\n",
        "\n",
        "strategy=None\n",
        "#strategy= tf.distribute.MirroredStrategy()\n",
        "config= tf.estimator.RunConfig(train_distribute=strategy)\n",
        "\n",
        "estimator = tf.keras.estimator.model_to_estimator(model, config=config)\n",
        "\n",
        "def input_fn(images, labels, epochs, batch_size):\n",
        "  #입력을 데이터셋으로 변환\n",
        "  dataset=tf.data.Dataset.from_tensor_slices((images,labels))\n",
        "\n",
        "  #예시를 섞고, 반복하고, 배치한다.\n",
        "  SHUFFLE_SIZE= 5000\n",
        "  dataset= dataset.shuffle(SHUFFLE_SIZE).repeat(epochs).batch(batch_size)\n",
        "  dataset = dataset.prefetch(None)\n",
        "\n",
        "  #데이터셋 반환\n",
        "  return dataset"
      ],
      "metadata": {
        "colab": {
          "base_uri": "https://localhost:8080/"
        },
        "id": "QXzuqjLsrkUD",
        "outputId": "478a6731-b88b-4d49-99a3-b2d02e8a90e7"
      },
      "execution_count": 14,
      "outputs": [
        {
          "output_type": "stream",
          "name": "stdout",
          "text": [
            "WARNING:tensorflow:Using temporary folder as model directory: /tmp/tmp5_gp42ab\n",
            "INFO:tensorflow:Using the Keras model provided.\n"
          ]
        },
        {
          "output_type": "stream",
          "name": "stderr",
          "text": [
            "/usr/local/lib/python3.7/dist-packages/keras/backend.py:450: UserWarning: `tf.keras.backend.set_learning_phase` is deprecated and will be removed after 2020-10-11. To update it, simply pass a True/False value to the `training` argument of the `__call__` method of your layer or model.\n",
            "  warnings.warn('`tf.keras.backend.set_learning_phase` is deprecated and '\n"
          ]
        },
        {
          "output_type": "stream",
          "name": "stdout",
          "text": [
            "INFO:tensorflow:Using config: {'_model_dir': '/tmp/tmp5_gp42ab', '_tf_random_seed': None, '_save_summary_steps': 100, '_save_checkpoints_steps': None, '_save_checkpoints_secs': 600, '_session_config': allow_soft_placement: true\n",
            "graph_options {\n",
            "  rewrite_options {\n",
            "    meta_optimizer_iterations: ONE\n",
            "  }\n",
            "}\n",
            ", '_keep_checkpoint_max': 5, '_keep_checkpoint_every_n_hours': 10000, '_log_step_count_steps': 100, '_train_distribute': None, '_device_fn': None, '_protocol': None, '_eval_distribute': None, '_experimental_distribute': None, '_experimental_max_worker_delay_secs': None, '_session_creation_timeout_secs': 7200, '_checkpoint_save_graph_def': True, '_service': None, '_cluster_spec': ClusterSpec({}), '_task_type': 'worker', '_task_id': 0, '_global_id_in_cluster': 0, '_master': '', '_evaluation_master': '', '_is_chief': True, '_num_ps_replicas': 0, '_num_worker_replicas': 1}\n"
          ]
        }
      ]
    },
    {
      "cell_type": "code",
      "source": [
        "# 훈련및 평가\n",
        "\n",
        "# 훈련\n",
        "BATCH_SIZE=512\n",
        "EPOCHS=50\n",
        "\n",
        "estimator_train_result = estimator.train(input_fn=lambda:input_fn(train_images,train_labels,epochs=EPOCHS, batch_size= BATCH_SIZE))\n",
        "\n",
        "print(estimator_train_result)\n",
        "\n",
        "#평가\n",
        "estimator.evaluate(lambda:input_fn(test_images,test_labels,epochs=1, batch_size=BATCH_SIZE))"
      ],
      "metadata": {
        "colab": {
          "base_uri": "https://localhost:8080/"
        },
        "id": "D9431Lxht06o",
        "outputId": "5b63a4eb-5f08-4f4c-f873-ba7038856d1c"
      },
      "execution_count": 15,
      "outputs": [
        {
          "output_type": "stream",
          "name": "stdout",
          "text": [
            "INFO:tensorflow:Calling model_fn.\n"
          ]
        },
        {
          "output_type": "stream",
          "name": "stderr",
          "text": [
            "/usr/local/lib/python3.7/dist-packages/keras/backend.py:450: UserWarning: `tf.keras.backend.set_learning_phase` is deprecated and will be removed after 2020-10-11. To update it, simply pass a True/False value to the `training` argument of the `__call__` method of your layer or model.\n",
            "  warnings.warn('`tf.keras.backend.set_learning_phase` is deprecated and '\n"
          ]
        },
        {
          "output_type": "stream",
          "name": "stdout",
          "text": [
            "INFO:tensorflow:Done calling model_fn.\n",
            "INFO:tensorflow:Warm-starting with WarmStartSettings: WarmStartSettings(ckpt_to_initialize_from='/tmp/tmp5_gp42ab/keras/keras_model.ckpt', vars_to_warm_start='.*', var_name_to_vocab_info={}, var_name_to_prev_var_name={})\n",
            "INFO:tensorflow:Warm-starting from: /tmp/tmp5_gp42ab/keras/keras_model.ckpt\n",
            "INFO:tensorflow:Warm-starting variables only in TRAINABLE_VARIABLES.\n",
            "INFO:tensorflow:Warm-started 10 variables.\n",
            "INFO:tensorflow:Create CheckpointSaverHook.\n",
            "INFO:tensorflow:Graph was finalized.\n",
            "INFO:tensorflow:Running local_init_op.\n",
            "INFO:tensorflow:Done running local_init_op.\n",
            "INFO:tensorflow:Calling checkpoint listeners before saving checkpoint 0...\n",
            "INFO:tensorflow:Saving checkpoints for 0 into /tmp/tmp5_gp42ab/model.ckpt.\n",
            "INFO:tensorflow:Calling checkpoint listeners after saving checkpoint 0...\n",
            "INFO:tensorflow:loss = 2.302271, step = 0\n",
            "INFO:tensorflow:global_step/sec: 39.3514\n",
            "INFO:tensorflow:loss = 0.42053318, step = 100 (2.547 sec)\n",
            "INFO:tensorflow:global_step/sec: 39.6858\n",
            "INFO:tensorflow:loss = 0.3898157, step = 200 (2.519 sec)\n",
            "WARNING:tensorflow:It seems that global step (tf.train.get_global_step) has not been increased. Current value (could be stable): 214 vs previous value: 214. You could increase the global step by passing tf.train.get_global_step() to Optimizer.apply_gradients or Optimizer.minimize.\n",
            "WARNING:tensorflow:It seems that global step (tf.train.get_global_step) has not been increased. Current value (could be stable): 284 vs previous value: 284. You could increase the global step by passing tf.train.get_global_step() to Optimizer.apply_gradients or Optimizer.minimize.\n",
            "INFO:tensorflow:global_step/sec: 39.544\n",
            "INFO:tensorflow:loss = 0.32899848, step = 300 (2.530 sec)\n",
            "INFO:tensorflow:global_step/sec: 39.3489\n",
            "INFO:tensorflow:loss = 0.22255147, step = 400 (2.541 sec)\n",
            "INFO:tensorflow:global_step/sec: 37.4524\n",
            "INFO:tensorflow:loss = 0.275455, step = 500 (2.671 sec)\n",
            "INFO:tensorflow:global_step/sec: 36.1633\n",
            "INFO:tensorflow:loss = 0.21700348, step = 600 (2.765 sec)\n",
            "INFO:tensorflow:global_step/sec: 36.2666\n",
            "INFO:tensorflow:loss = 0.21415663, step = 700 (2.757 sec)\n",
            "INFO:tensorflow:global_step/sec: 36.3309\n",
            "INFO:tensorflow:loss = 0.19363926, step = 800 (2.752 sec)\n",
            "INFO:tensorflow:global_step/sec: 36.3726\n",
            "INFO:tensorflow:loss = 0.19232975, step = 900 (2.750 sec)\n",
            "INFO:tensorflow:global_step/sec: 35.9061\n",
            "INFO:tensorflow:loss = 0.16053422, step = 1000 (2.785 sec)\n",
            "INFO:tensorflow:global_step/sec: 40.4037\n",
            "INFO:tensorflow:loss = 0.11436327, step = 1100 (2.473 sec)\n",
            "INFO:tensorflow:global_step/sec: 41.5985\n",
            "INFO:tensorflow:loss = 0.17283705, step = 1200 (2.407 sec)\n",
            "INFO:tensorflow:global_step/sec: 40.2826\n",
            "INFO:tensorflow:loss = 0.17747389, step = 1300 (2.481 sec)\n",
            "INFO:tensorflow:global_step/sec: 39.4704\n",
            "INFO:tensorflow:loss = 0.16612917, step = 1400 (2.535 sec)\n",
            "INFO:tensorflow:global_step/sec: 39.5084\n",
            "INFO:tensorflow:loss = 0.1221147, step = 1500 (2.527 sec)\n",
            "WARNING:tensorflow:It seems that global step (tf.train.get_global_step) has not been increased. Current value (could be stable): 1527 vs previous value: 1527. You could increase the global step by passing tf.train.get_global_step() to Optimizer.apply_gradients or Optimizer.minimize.\n",
            "INFO:tensorflow:global_step/sec: 39.4794\n",
            "INFO:tensorflow:loss = 0.0799637, step = 1600 (2.534 sec)\n",
            "INFO:tensorflow:global_step/sec: 36.8765\n",
            "INFO:tensorflow:loss = 0.08774123, step = 1700 (2.715 sec)\n",
            "WARNING:tensorflow:It seems that global step (tf.train.get_global_step) has not been increased. Current value (could be stable): 1736 vs previous value: 1736. You could increase the global step by passing tf.train.get_global_step() to Optimizer.apply_gradients or Optimizer.minimize.\n",
            "INFO:tensorflow:global_step/sec: 36.2318\n",
            "INFO:tensorflow:loss = 0.08470815, step = 1800 (2.761 sec)\n",
            "INFO:tensorflow:global_step/sec: 33.7488\n",
            "INFO:tensorflow:loss = 0.087124355, step = 1900 (2.960 sec)\n",
            "INFO:tensorflow:global_step/sec: 35.1469\n",
            "INFO:tensorflow:loss = 0.05978761, step = 2000 (2.845 sec)\n",
            "INFO:tensorflow:global_step/sec: 36.0508\n",
            "INFO:tensorflow:loss = 0.074709445, step = 2100 (2.775 sec)\n",
            "INFO:tensorflow:global_step/sec: 35.5473\n",
            "INFO:tensorflow:loss = 0.0761712, step = 2200 (2.813 sec)\n",
            "WARNING:tensorflow:It seems that global step (tf.train.get_global_step) has not been increased. Current value (could be stable): 2226 vs previous value: 2226. You could increase the global step by passing tf.train.get_global_step() to Optimizer.apply_gradients or Optimizer.minimize.\n",
            "INFO:tensorflow:global_step/sec: 36.0188\n",
            "INFO:tensorflow:loss = 0.064322844, step = 2300 (2.774 sec)\n",
            "INFO:tensorflow:global_step/sec: 35.9387\n",
            "INFO:tensorflow:loss = 0.06214127, step = 2400 (2.785 sec)\n",
            "INFO:tensorflow:global_step/sec: 35.9659\n",
            "INFO:tensorflow:loss = 0.044565827, step = 2500 (2.780 sec)\n",
            "INFO:tensorflow:global_step/sec: 35.5575\n",
            "INFO:tensorflow:loss = 0.03613734, step = 2600 (2.813 sec)\n",
            "INFO:tensorflow:global_step/sec: 35.5558\n",
            "INFO:tensorflow:loss = 0.046911195, step = 2700 (2.812 sec)\n",
            "INFO:tensorflow:global_step/sec: 35.8689\n",
            "INFO:tensorflow:loss = 0.029087458, step = 2800 (2.788 sec)\n",
            "INFO:tensorflow:global_step/sec: 35.9236\n",
            "INFO:tensorflow:loss = 0.036967754, step = 2900 (2.782 sec)\n",
            "INFO:tensorflow:global_step/sec: 35.4829\n",
            "INFO:tensorflow:loss = 0.048373237, step = 3000 (2.818 sec)\n",
            "INFO:tensorflow:global_step/sec: 35.9385\n",
            "INFO:tensorflow:loss = 0.032393195, step = 3100 (2.785 sec)\n",
            "INFO:tensorflow:global_step/sec: 35.6965\n",
            "INFO:tensorflow:loss = 0.049070977, step = 3200 (2.798 sec)\n",
            "INFO:tensorflow:global_step/sec: 35.4536\n",
            "INFO:tensorflow:loss = 0.026443344, step = 3300 (2.823 sec)\n",
            "INFO:tensorflow:global_step/sec: 35.8052\n",
            "INFO:tensorflow:loss = 0.025781794, step = 3400 (2.793 sec)\n",
            "INFO:tensorflow:global_step/sec: 35.2638\n",
            "INFO:tensorflow:loss = 0.030111764, step = 3500 (2.836 sec)\n",
            "INFO:tensorflow:global_step/sec: 35.3168\n",
            "INFO:tensorflow:loss = 0.023910994, step = 3600 (2.831 sec)\n",
            "INFO:tensorflow:global_step/sec: 35.2414\n",
            "INFO:tensorflow:loss = 0.02327748, step = 3700 (2.837 sec)\n",
            "INFO:tensorflow:global_step/sec: 35.3661\n",
            "INFO:tensorflow:loss = 0.035695355, step = 3800 (2.828 sec)\n",
            "INFO:tensorflow:global_step/sec: 37.47\n",
            "INFO:tensorflow:loss = 0.021527, step = 3900 (2.668 sec)\n",
            "INFO:tensorflow:global_step/sec: 39.8907\n",
            "INFO:tensorflow:loss = 0.052484293, step = 4000 (2.503 sec)\n",
            "INFO:tensorflow:global_step/sec: 38.9442\n",
            "INFO:tensorflow:loss = 0.036889244, step = 4100 (2.572 sec)\n",
            "INFO:tensorflow:global_step/sec: 39.4416\n",
            "INFO:tensorflow:loss = 0.025080465, step = 4200 (2.533 sec)\n",
            "INFO:tensorflow:global_step/sec: 39.1783\n",
            "INFO:tensorflow:loss = 0.023293361, step = 4300 (2.555 sec)\n",
            "INFO:tensorflow:global_step/sec: 38.275\n",
            "INFO:tensorflow:loss = 0.01991998, step = 4400 (2.613 sec)\n",
            "INFO:tensorflow:global_step/sec: 35.9027\n",
            "INFO:tensorflow:loss = 0.018294489, step = 4500 (2.785 sec)\n",
            "INFO:tensorflow:global_step/sec: 35.6539\n",
            "INFO:tensorflow:loss = 0.022846935, step = 4600 (2.805 sec)\n",
            "INFO:tensorflow:global_step/sec: 35.854\n",
            "INFO:tensorflow:loss = 0.014719551, step = 4700 (2.789 sec)\n",
            "INFO:tensorflow:global_step/sec: 35.3544\n",
            "INFO:tensorflow:loss = 0.04137529, step = 4800 (2.827 sec)\n",
            "INFO:tensorflow:global_step/sec: 35.4227\n",
            "INFO:tensorflow:loss = 0.01731672, step = 4900 (2.823 sec)\n",
            "INFO:tensorflow:global_step/sec: 35.6383\n",
            "INFO:tensorflow:loss = 0.03828156, step = 5000 (2.807 sec)\n",
            "INFO:tensorflow:global_step/sec: 35.4425\n",
            "INFO:tensorflow:loss = 0.016165208, step = 5100 (2.824 sec)\n",
            "INFO:tensorflow:global_step/sec: 35.4067\n",
            "INFO:tensorflow:loss = 0.026231522, step = 5200 (2.822 sec)\n",
            "INFO:tensorflow:global_step/sec: 35.5944\n",
            "INFO:tensorflow:loss = 0.017847164, step = 5300 (2.809 sec)\n",
            "INFO:tensorflow:global_step/sec: 35.5189\n",
            "INFO:tensorflow:loss = 0.015853768, step = 5400 (2.814 sec)\n",
            "INFO:tensorflow:global_step/sec: 35.5671\n",
            "INFO:tensorflow:loss = 0.017595198, step = 5500 (2.813 sec)\n",
            "INFO:tensorflow:global_step/sec: 33.9065\n",
            "INFO:tensorflow:loss = 0.01985406, step = 5600 (2.951 sec)\n",
            "INFO:tensorflow:global_step/sec: 32.9417\n",
            "INFO:tensorflow:loss = 0.014212541, step = 5700 (3.033 sec)\n",
            "INFO:tensorflow:global_step/sec: 35.5448\n",
            "INFO:tensorflow:loss = 0.02078861, step = 5800 (2.815 sec)\n",
            "INFO:tensorflow:Calling checkpoint listeners before saving checkpoint 5860...\n",
            "INFO:tensorflow:Saving checkpoints for 5860 into /tmp/tmp5_gp42ab/model.ckpt.\n",
            "INFO:tensorflow:Calling checkpoint listeners after saving checkpoint 5860...\n",
            "INFO:tensorflow:Loss for final step: 0.0025256071.\n",
            "<tensorflow_estimator.python.estimator.estimator.EstimatorV2 object at 0x7fa6e1ab9850>\n",
            "INFO:tensorflow:Calling model_fn.\n",
            "INFO:tensorflow:Done calling model_fn.\n",
            "INFO:tensorflow:Starting evaluation at 2022-07-06T09:24:23\n",
            "INFO:tensorflow:Graph was finalized.\n",
            "INFO:tensorflow:Restoring parameters from /tmp/tmp5_gp42ab/model.ckpt-5860\n",
            "INFO:tensorflow:Running local_init_op.\n",
            "INFO:tensorflow:Done running local_init_op.\n"
          ]
        },
        {
          "output_type": "stream",
          "name": "stderr",
          "text": [
            "/usr/local/lib/python3.7/dist-packages/keras/engine/training_v1.py:2057: UserWarning: `Model.state_updates` will be removed in a future version. This property should not be used in TensorFlow 2.0, as `updates` are applied automatically.\n",
            "  updates = self.state_updates\n"
          ]
        },
        {
          "output_type": "stream",
          "name": "stdout",
          "text": [
            "INFO:tensorflow:Inference Time : 0.72371s\n",
            "INFO:tensorflow:Finished evaluation at 2022-07-06-09:24:24\n",
            "INFO:tensorflow:Saving dict for global step 5860: accuracy = 0.928, global_step = 5860, loss = 0.4667523\n",
            "INFO:tensorflow:Saving 'checkpoint_path' summary for global step 5860: /tmp/tmp5_gp42ab/model.ckpt-5860\n"
          ]
        },
        {
          "output_type": "execute_result",
          "data": {
            "text/plain": [
              "{'accuracy': 0.928, 'global_step': 5860, 'loss': 0.4667523}"
            ]
          },
          "metadata": {},
          "execution_count": 15
        }
      ]
    }
  ]
}